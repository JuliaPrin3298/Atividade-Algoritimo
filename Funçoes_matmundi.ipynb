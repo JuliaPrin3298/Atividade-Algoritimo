{
  "nbformat": 4,
  "nbformat_minor": 0,
  "metadata": {
    "colab": {
      "provenance": [],
      "authorship_tag": "ABX9TyOXiUlmej8mvc7hKoKadNeY",
      "include_colab_link": true
    },
    "kernelspec": {
      "name": "python3",
      "display_name": "Python 3"
    },
    "language_info": {
      "name": "python"
    }
  },
  "cells": [
    {
      "cell_type": "markdown",
      "metadata": {
        "id": "view-in-github",
        "colab_type": "text"
      },
      "source": [
        "<a href=\"https://colab.research.google.com/github/JuliaPrin3298/Atividade-Algoritimo/blob/main/Fun%C3%A7oes_matmundi.ipynb\" target=\"_parent\"><img src=\"https://colab.research.google.com/assets/colab-badge.svg\" alt=\"Open In Colab\"/></a>"
      ]
    },
    {
      "cell_type": "markdown",
      "source": [
        "1. Função de cadastrar usuario"
      ],
      "metadata": {
        "id": "wdJuOUa0gfz7"
      }
    },
    {
      "cell_type": "code",
      "execution_count": null,
      "metadata": {
        "colab": {
          "base_uri": "https://localhost:8080/"
        },
        "id": "ZKIeBpxdgaji",
        "outputId": "4448904c-4461-4edd-89f6-1324a1c0d2b6"
      },
      "outputs": [
        {
          "output_type": "stream",
          "name": "stdout",
          "text": [
            "Digite um nome: Julia Rocha\n",
            "Digite uma senha: matmundi\n",
            "Usuário cadastrado com sucesso!\n",
            "(['Julia Rocha'], ['matmundi'])\n"
          ]
        }
      ],
      "source": [
        "nomes = []\n",
        "senhas = []\n",
        "\n",
        "def cadastrar_nomes():\n",
        "  nome = input(\"Digite um nome: \")\n",
        "  nomes.append(nome)\n",
        "  senha = input(\"Digite uma senha: \")\n",
        "  senhas.append(senha)\n",
        "  print(\"Usuário cadastrado com sucesso!\")\n",
        "  return nomes, senhas\n",
        "\n",
        "\n",
        "print(cadastrar_nomes())\n",
        "\n"
      ]
    },
    {
      "cell_type": "markdown",
      "source": [
        "2. Contas automáticas"
      ],
      "metadata": {
        "id": "KVvex-lyhO6e"
      }
    },
    {
      "cell_type": "code",
      "source": [
        "import random\n",
        "\n",
        "def contas_automaticas():\n",
        "    print(\"Escolha a operação:\")\n",
        "    print(\"1 - Soma\")\n",
        "    print(\"2 - Subtração\")\n",
        "    print(\"3 - Multiplicação\")\n",
        "    print(\"4 - Divisão\")\n",
        "\n",
        "    opcao = input(\"Digite o número da operação desejada: \")\n",
        "\n",
        "    num1 = random.randint(1, 100)\n",
        "    num2 = random.randint(1, 100)\n",
        "\n",
        "    print(f\"Números sorteados: {num1} e {num2}\")\n",
        "\n",
        "    if opcao == \"1\":\n",
        "        resultado_correto = num1 + num2\n",
        "        resposta = float(input(\"Qual o resultado da soma? \"))\n",
        "    elif opcao == \"2\":\n",
        "        resultado_correto = num1 - num2\n",
        "        resposta = float(input(\"Qual o resultado da subtração? \"))\n",
        "    elif opcao == \"3\":\n",
        "        resultado_correto = num1 * num2\n",
        "        resposta = float(input(\"Qual o resultado da multiplicação? \"))\n",
        "    elif opcao == \"4\":\n",
        "        # Evitar divisão por zero\n",
        "        while num2 == 0:\n",
        "            num2 = random.randint(1, 100)\n",
        "        resultado_correto = num1 / num2\n",
        "        resposta = float(input(\"Qual o resultado da divisão? (até 2 casas decimais) \"))\n",
        "    else:\n",
        "        print(\"Opção inválida!\")\n",
        "        return\n",
        "\n",
        "\n",
        "# Exemplo de uso\n",
        "contas_automaticas()\n",
        "\n"
      ],
      "metadata": {
        "colab": {
          "base_uri": "https://localhost:8080/"
        },
        "id": "S1PmZT1whV34",
        "outputId": "375b1d14-c01e-438c-ab44-e143b0021498"
      },
      "execution_count": null,
      "outputs": [
        {
          "name": "stdout",
          "output_type": "stream",
          "text": [
            "Escolha a operação:\n",
            "1 - Soma\n",
            "2 - Subtração\n",
            "3 - Multiplicação\n",
            "4 - Divisão\n",
            "Digite o número da operação desejada: 1\n",
            "Números sorteados: 49 e 71\n",
            "Qual o resultado da soma? 120\n"
          ]
        }
      ]
    },
    {
      "cell_type": "markdown",
      "source": [
        "3. Verificação das contas"
      ],
      "metadata": {
        "id": "uiN0Tg4Fjacw"
      }
    },
    {
      "cell_type": "code",
      "source": [
        "def verificar_resposta(resposta, resultado_correto, operacao):\n",
        "    if operacao == \"4\":  # divisão - aceitar pequeno erro por conta das casas decimais\n",
        "        if abs(resposta - resultado_correto) < 0.01:\n",
        "            print(\"✅ Parabéns, você acertou!\")\n",
        "        else:\n",
        "            print(f\"❌ Errou! O resultado correto era {resultado_correto:}\")\n",
        "    else:\n",
        "        if resposta == resultado_correto:\n",
        "            print(\"✅ Parabéns, você acertou!\")\n",
        "        else:\n",
        "            print(f\"❌ Errou! O resultado correto era {resultado_correto}\")\n"
      ],
      "metadata": {
        "id": "vH1SRaOGjfUZ"
      },
      "execution_count": null,
      "outputs": []
    },
    {
      "cell_type": "markdown",
      "source": [
        "Aplicando em um unico sistema\n",
        "* Cadastro\n",
        "* Contas\n",
        "* Verificação das Contas\n"
      ],
      "metadata": {
        "id": "XJ4ayDWojng3"
      }
    },
    {
      "cell_type": "code",
      "source": [
        "nomes = []\n",
        "senhas = []\n",
        "\n",
        "def cadastrar_nomes():\n",
        "  print(\"=========CADASTRO==========\")\n",
        "  nome = input(\"Digite um nome: \")\n",
        "  nomes.append(nome)\n",
        "  senha = input(\"Digite uma senha: \")\n",
        "  senhas.append(senha)\n",
        "  print(\"Usuário cadastrado com sucesso!\")\n",
        "  return nomes, senhas\n",
        "\n",
        "import random\n",
        "\n",
        "nomes = []\n",
        "senhas = []\n",
        "\n",
        "def cadastrar_nomes():\n",
        "    print(\"=========CADASTRO==========\")\n",
        "    nome = input(\"Digite um nome: \")\n",
        "    nomes.append(nome)\n",
        "    senha = input(\"Digite uma senha: \")\n",
        "    senhas.append(senha)\n",
        "    print(\"Usuário cadastrado com sucesso!\")\n",
        "    return nomes, senhas\n",
        "\n",
        "def verificar_resposta(resposta, resultado_correto, operacao):\n",
        "    if operacao == \"4\":  # divisão - aceitar pequeno erro por conta das casas decimais\n",
        "        if abs(resposta - resultado_correto) < 0.01:\n",
        "            print(\"✅ Parabéns, você acertou!\")\n",
        "        else:\n",
        "            print(f\"❌ Errou! O resultado correto era {resultado_correto:.2f}\")\n",
        "    else:\n",
        "        if resposta == resultado_correto:\n",
        "            print(\"✅ Parabéns, você acertou!\")\n",
        "        else:\n",
        "            print(f\"❌ Errou! O resultado correto era {resultado_correto}\")\n",
        "\n",
        "def contas_automaticas():\n",
        "    print(\"=========CONTAS==========\")\n",
        "    print(\"Escolha a operação:\")\n",
        "    print(\"1 - Soma\")\n",
        "    print(\"2 - Subtração\")\n",
        "    print(\"3 - Multiplicação\")\n",
        "    print(\"4 - Divisão\")\n",
        "\n",
        "    opcao = input(\"Digite o número da operação desejada: \")\n",
        "\n",
        "    num1 = random.randint(1, 100)\n",
        "    num2 = random.randint(1, 100)\n",
        "\n",
        "    print(f\"Números sorteados: {num1} e {num2}\")\n",
        "\n",
        "    if opcao == \"1\":\n",
        "        resultado_correto = num1 + num2\n",
        "        resposta = float(input(\"Qual o resultado da soma? \"))\n",
        "    elif opcao == \"2\":\n",
        "        resultado_correto = num1 - num2\n",
        "        resposta = float(input(\"Qual o resultado da subtração? \"))\n",
        "    elif opcao == \"3\":\n",
        "        resultado_correto = num1 * num2\n",
        "        resposta = float(input(\"Qual o resultado da multiplicação? \"))\n",
        "    elif opcao == \"4\":\n",
        "        while num2 == 0:\n",
        "            num2 = random.randint(1, 100)\n",
        "        resultado_correto = num1 / num2\n",
        "        resposta = float(input(\"Qual o resultado da divisão? (até 2 casas decimais) \"))\n",
        "    else:\n",
        "        print(\"Opção inválida!\")\n",
        "        return\n",
        "\n",
        "    verificar_resposta(resposta, resultado_correto, opcao)\n",
        "\n",
        "\n",
        "while True:\n",
        "    print(\"=========MENU==========\")\n",
        "    print(\"1. Cadastrar usuário\")\n",
        "    print(\"2. Contas automáticas\")\n",
        "    print(\"3. Sair\")\n",
        "    opiciones = int(input(\"Escolha uma opção: \"))\n",
        "\n",
        "    if opiciones == 1:\n",
        "        cadastrar_nomes()\n",
        "    elif opiciones == 2:\n",
        "        contas_automaticas()\n",
        "    elif opiciones == 3:\n",
        "        print(\"Saindo do programa...\")\n",
        "        break\n",
        "    else:\n",
        "        print(\"Opção inválida!\")\n"
      ],
      "metadata": {
        "colab": {
          "base_uri": "https://localhost:8080/"
        },
        "id": "V_E_U2kwj2GV",
        "outputId": "b27a3ea3-07aa-492d-ac43-040056603fb1"
      },
      "execution_count": null,
      "outputs": [
        {
          "output_type": "stream",
          "name": "stdout",
          "text": [
            "=========MENU==========\n",
            "1. Cadastrar usuário\n",
            "2. Contas automáticas\n",
            "3. Sair\n",
            "Escolha uma opção: 1\n",
            "=========CADASTRO==========\n",
            "Digite um nome: Julia Rocha\n",
            "Digite uma senha: matmundi\n",
            "Usuário cadastrado com sucesso!\n",
            "=========MENU==========\n",
            "1. Cadastrar usuário\n",
            "2. Contas automáticas\n",
            "3. Sair\n",
            "Escolha uma opção: 2\n",
            "=========CONTAS==========\n",
            "Escolha a operação:\n",
            "1 - Soma\n",
            "2 - Subtração\n",
            "3 - Multiplicação\n",
            "4 - Divisão\n",
            "Digite o número da operação desejada: 1\n",
            "Números sorteados: 92 e 87\n",
            "Qual o resultado da soma? 179\n",
            "✅ Parabéns, você acertou!\n",
            "=========MENU==========\n",
            "1. Cadastrar usuário\n",
            "2. Contas automáticas\n",
            "3. Sair\n",
            "Escolha uma opção: 2\n",
            "=========CONTAS==========\n",
            "Escolha a operação:\n",
            "1 - Soma\n",
            "2 - Subtração\n",
            "3 - Multiplicação\n",
            "4 - Divisão\n",
            "Digite o número da operação desejada: 2\n",
            "Números sorteados: 97 e 84\n",
            "Qual o resultado da subtração? 34\n",
            "❌ Errou! O resultado correto era 13\n",
            "=========MENU==========\n",
            "1. Cadastrar usuário\n",
            "2. Contas automáticas\n",
            "3. Sair\n",
            "Escolha uma opção: 3\n",
            "Saindo do programa...\n"
          ]
        }
      ]
    }
  ]
}